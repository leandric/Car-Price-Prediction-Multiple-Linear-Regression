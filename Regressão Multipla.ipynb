{
 "cells": [
  {
   "cell_type": "markdown",
   "id": "b777b65f",
   "metadata": {},
   "source": [
    "# Car Price Prediction Multiple Linear Regression\n",
    "\n",
    "Problem in <a href='https://www.kaggle.com/datasets/hellbuoy/car-price-prediction'>Kaggle</a>\n",
    "\n",
    "## Declaração do problema\n",
    "A empresa automobilística chinesa Geely Auto aspira entrar no mercado dos EUA estabelecendo sua unidade de fabricação lá e produzindo carros localmente para competir com seus colegas americanos e europeus.\n",
    "\n",
    "Eles contrataram uma empresa de consultoria automobilística para entender os fatores dos quais depende o preço dos carros. Especificamente, eles querem entender os fatores que afetam os preços dos carros no mercado americano, pois podem ser muito diferentes do mercado chinês. A empresa quer saber:\n",
    "\n",
    "Quais variáveis ​​são significativas na previsão do preço de um carro\n",
    "Como essas variáveis ​​descrevem o preço de um carro\n",
    "Com base em várias pesquisas de mercado, a empresa de consultoria reuniu um grande conjunto de dados de diferentes tipos de carros no mercado americano.\n",
    "\n",
    "## Objetivo de Negócios\n",
    "Somos obrigados a modelar o preço dos carros com as variáveis ​​independentes disponíveis. Ele será usado pela administração para entender exatamente como os preços variam com as variáveis ​​independentes. Eles podem manipular o design dos carros, a estratégia de negócios etc. para atender a determinados níveis de preços. Além disso, o modelo será uma boa maneira de a administração entender a dinâmica de preços de um novo mercado.\n",
    "\n",
    "## Dicionário de dados\n",
    "Coluna|Descrição\n",
    "-----|-----\n",
    "Car_ID\t|Sua classificação de risco de seguro atribuída, um valor de +3 indica que o automóvel é arriscado, -3 que provavelmente é bastante seguro. (Categórico)\n",
    "carCompany |\tNome da empresa de carros (categórica)\n",
    "fueltype |\tTipo de combustível de carro, ou seja, gás ou diesel (categórico)\n",
    "aspiration | \tAspiração usada em um carro (categórico)\n",
    "doornumber |\tNúmero de portas em um carro (categórico)\n",
    "carbody |\tCorpo de carro (categórico)\n",
    "drivewheel |\ttipo de roda de acionamento (categórica)\n",
    "enginelocation |\tLocalização do motor do carro (categórico)\n",
    "wheelbase |\tWeelbase de carro (numérico)\n",
    "carlength |\tComprimento do carro (numérico)\n",
    "carwidth |\tLargura do carro (numérico)\n",
    "carheight |\tAltura do carro (numérico)\n",
    "curbweight |\tO peso de um carro sem ocupantes ou bagagem. (Numérico)\n",
    "enginetype |\tTipo de motor. (Categórico)\n",
    "cylindernumber |\tCilindro colocado no carro (categórico)\n",
    "enginesize |\tTamanho do carro (numérico)\n",
    "fuelsystem |\tSistema de combustível de carro (categórico)\n",
    "boreratio |\tBoreratio de carro (numérico)\n",
    "stroke |\tAVC ou volume dentro do motor (numérico)\n",
    "compressionratio |\tTaxa de compressão de carro (numérico)\n",
    "horsepower |\tPotência (numérica)\n",
    "peakrpm |\tRPM de pico de carro (numérico)\n",
    "citympg |\tMilhagem na cidade (numérica)\n",
    "highwaympg |\tMilhagem na rodovia (numérica)\n",
    "price(Dependent variable) |\tPreço do carro (numérico)"
   ]
  },
  {
   "cell_type": "markdown",
   "id": "9f3ecc44",
   "metadata": {},
   "source": [
    "## 1. Imports"
   ]
  },
  {
   "cell_type": "code",
   "execution_count": 1,
   "id": "7e91b36b",
   "metadata": {},
   "outputs": [],
   "source": [
    "import pandas as pd\n",
    "import seaborn as sns\n",
    "import numpy as np\n",
    "from sklearn.model_selection import train_test_split\n",
    "import statsmodels.api as sm\n",
    "from sklearn.linear_model import LinearRegression\n",
    "from sklearn.preprocessing import LabelEncoder\n",
    "from sklearn import metrics\n",
    "\n",
    "# Warnings remove \n",
    "import warnings\n",
    "warnings.filterwarnings(\"ignore\")"
   ]
  },
  {
   "cell_type": "code",
   "execution_count": 2,
   "id": "04da96e8",
   "metadata": {},
   "outputs": [],
   "source": [
    "dados = pd.read_csv('dados/CarPrice_Assignment.csv')"
   ]
  },
  {
   "cell_type": "code",
   "execution_count": 3,
   "id": "455b77b8",
   "metadata": {},
   "outputs": [
    {
     "data": {
      "text/html": [
       "<div>\n",
       "<style scoped>\n",
       "    .dataframe tbody tr th:only-of-type {\n",
       "        vertical-align: middle;\n",
       "    }\n",
       "\n",
       "    .dataframe tbody tr th {\n",
       "        vertical-align: top;\n",
       "    }\n",
       "\n",
       "    .dataframe thead th {\n",
       "        text-align: right;\n",
       "    }\n",
       "</style>\n",
       "<table border=\"1\" class=\"dataframe\">\n",
       "  <thead>\n",
       "    <tr style=\"text-align: right;\">\n",
       "      <th></th>\n",
       "      <th>car_ID</th>\n",
       "      <th>symboling</th>\n",
       "      <th>CarName</th>\n",
       "      <th>fueltype</th>\n",
       "      <th>aspiration</th>\n",
       "      <th>doornumber</th>\n",
       "      <th>carbody</th>\n",
       "      <th>drivewheel</th>\n",
       "      <th>enginelocation</th>\n",
       "      <th>wheelbase</th>\n",
       "      <th>...</th>\n",
       "      <th>enginesize</th>\n",
       "      <th>fuelsystem</th>\n",
       "      <th>boreratio</th>\n",
       "      <th>stroke</th>\n",
       "      <th>compressionratio</th>\n",
       "      <th>horsepower</th>\n",
       "      <th>peakrpm</th>\n",
       "      <th>citympg</th>\n",
       "      <th>highwaympg</th>\n",
       "      <th>price</th>\n",
       "    </tr>\n",
       "  </thead>\n",
       "  <tbody>\n",
       "    <tr>\n",
       "      <th>0</th>\n",
       "      <td>1</td>\n",
       "      <td>3</td>\n",
       "      <td>alfa-romero giulia</td>\n",
       "      <td>gas</td>\n",
       "      <td>std</td>\n",
       "      <td>two</td>\n",
       "      <td>convertible</td>\n",
       "      <td>rwd</td>\n",
       "      <td>front</td>\n",
       "      <td>88.6</td>\n",
       "      <td>...</td>\n",
       "      <td>130</td>\n",
       "      <td>mpfi</td>\n",
       "      <td>3.47</td>\n",
       "      <td>2.68</td>\n",
       "      <td>9.0</td>\n",
       "      <td>111</td>\n",
       "      <td>5000</td>\n",
       "      <td>21</td>\n",
       "      <td>27</td>\n",
       "      <td>13495.0</td>\n",
       "    </tr>\n",
       "    <tr>\n",
       "      <th>1</th>\n",
       "      <td>2</td>\n",
       "      <td>3</td>\n",
       "      <td>alfa-romero stelvio</td>\n",
       "      <td>gas</td>\n",
       "      <td>std</td>\n",
       "      <td>two</td>\n",
       "      <td>convertible</td>\n",
       "      <td>rwd</td>\n",
       "      <td>front</td>\n",
       "      <td>88.6</td>\n",
       "      <td>...</td>\n",
       "      <td>130</td>\n",
       "      <td>mpfi</td>\n",
       "      <td>3.47</td>\n",
       "      <td>2.68</td>\n",
       "      <td>9.0</td>\n",
       "      <td>111</td>\n",
       "      <td>5000</td>\n",
       "      <td>21</td>\n",
       "      <td>27</td>\n",
       "      <td>16500.0</td>\n",
       "    </tr>\n",
       "    <tr>\n",
       "      <th>2</th>\n",
       "      <td>3</td>\n",
       "      <td>1</td>\n",
       "      <td>alfa-romero Quadrifoglio</td>\n",
       "      <td>gas</td>\n",
       "      <td>std</td>\n",
       "      <td>two</td>\n",
       "      <td>hatchback</td>\n",
       "      <td>rwd</td>\n",
       "      <td>front</td>\n",
       "      <td>94.5</td>\n",
       "      <td>...</td>\n",
       "      <td>152</td>\n",
       "      <td>mpfi</td>\n",
       "      <td>2.68</td>\n",
       "      <td>3.47</td>\n",
       "      <td>9.0</td>\n",
       "      <td>154</td>\n",
       "      <td>5000</td>\n",
       "      <td>19</td>\n",
       "      <td>26</td>\n",
       "      <td>16500.0</td>\n",
       "    </tr>\n",
       "    <tr>\n",
       "      <th>3</th>\n",
       "      <td>4</td>\n",
       "      <td>2</td>\n",
       "      <td>audi 100 ls</td>\n",
       "      <td>gas</td>\n",
       "      <td>std</td>\n",
       "      <td>four</td>\n",
       "      <td>sedan</td>\n",
       "      <td>fwd</td>\n",
       "      <td>front</td>\n",
       "      <td>99.8</td>\n",
       "      <td>...</td>\n",
       "      <td>109</td>\n",
       "      <td>mpfi</td>\n",
       "      <td>3.19</td>\n",
       "      <td>3.40</td>\n",
       "      <td>10.0</td>\n",
       "      <td>102</td>\n",
       "      <td>5500</td>\n",
       "      <td>24</td>\n",
       "      <td>30</td>\n",
       "      <td>13950.0</td>\n",
       "    </tr>\n",
       "    <tr>\n",
       "      <th>4</th>\n",
       "      <td>5</td>\n",
       "      <td>2</td>\n",
       "      <td>audi 100ls</td>\n",
       "      <td>gas</td>\n",
       "      <td>std</td>\n",
       "      <td>four</td>\n",
       "      <td>sedan</td>\n",
       "      <td>4wd</td>\n",
       "      <td>front</td>\n",
       "      <td>99.4</td>\n",
       "      <td>...</td>\n",
       "      <td>136</td>\n",
       "      <td>mpfi</td>\n",
       "      <td>3.19</td>\n",
       "      <td>3.40</td>\n",
       "      <td>8.0</td>\n",
       "      <td>115</td>\n",
       "      <td>5500</td>\n",
       "      <td>18</td>\n",
       "      <td>22</td>\n",
       "      <td>17450.0</td>\n",
       "    </tr>\n",
       "  </tbody>\n",
       "</table>\n",
       "<p>5 rows × 26 columns</p>\n",
       "</div>"
      ],
      "text/plain": [
       "   car_ID  symboling                   CarName fueltype aspiration doornumber  \\\n",
       "0       1          3        alfa-romero giulia      gas        std        two   \n",
       "1       2          3       alfa-romero stelvio      gas        std        two   \n",
       "2       3          1  alfa-romero Quadrifoglio      gas        std        two   \n",
       "3       4          2               audi 100 ls      gas        std       four   \n",
       "4       5          2                audi 100ls      gas        std       four   \n",
       "\n",
       "       carbody drivewheel enginelocation  wheelbase  ...  enginesize  \\\n",
       "0  convertible        rwd          front       88.6  ...         130   \n",
       "1  convertible        rwd          front       88.6  ...         130   \n",
       "2    hatchback        rwd          front       94.5  ...         152   \n",
       "3        sedan        fwd          front       99.8  ...         109   \n",
       "4        sedan        4wd          front       99.4  ...         136   \n",
       "\n",
       "   fuelsystem  boreratio  stroke compressionratio horsepower  peakrpm citympg  \\\n",
       "0        mpfi       3.47    2.68              9.0        111     5000      21   \n",
       "1        mpfi       3.47    2.68              9.0        111     5000      21   \n",
       "2        mpfi       2.68    3.47              9.0        154     5000      19   \n",
       "3        mpfi       3.19    3.40             10.0        102     5500      24   \n",
       "4        mpfi       3.19    3.40              8.0        115     5500      18   \n",
       "\n",
       "   highwaympg    price  \n",
       "0          27  13495.0  \n",
       "1          27  16500.0  \n",
       "2          26  16500.0  \n",
       "3          30  13950.0  \n",
       "4          22  17450.0  \n",
       "\n",
       "[5 rows x 26 columns]"
      ]
     },
     "execution_count": 3,
     "metadata": {},
     "output_type": "execute_result"
    }
   ],
   "source": [
    "dados.head()"
   ]
  },
  {
   "cell_type": "code",
   "execution_count": 4,
   "id": "12ec18ee",
   "metadata": {},
   "outputs": [
    {
     "data": {
      "text/plain": [
       "(205, 26)"
      ]
     },
     "execution_count": 4,
     "metadata": {},
     "output_type": "execute_result"
    }
   ],
   "source": [
    "dados.shape"
   ]
  },
  {
   "cell_type": "markdown",
   "id": "6f6d1049",
   "metadata": {},
   "source": [
    "## 1.2 Análises Preliminares"
   ]
  },
  {
   "cell_type": "code",
   "execution_count": 5,
   "id": "9b9d275d",
   "metadata": {},
   "outputs": [
    {
     "data": {
      "text/html": [
       "<div>\n",
       "<style scoped>\n",
       "    .dataframe tbody tr th:only-of-type {\n",
       "        vertical-align: middle;\n",
       "    }\n",
       "\n",
       "    .dataframe tbody tr th {\n",
       "        vertical-align: top;\n",
       "    }\n",
       "\n",
       "    .dataframe thead th {\n",
       "        text-align: right;\n",
       "    }\n",
       "</style>\n",
       "<table border=\"1\" class=\"dataframe\">\n",
       "  <thead>\n",
       "    <tr style=\"text-align: right;\">\n",
       "      <th></th>\n",
       "      <th>car_ID</th>\n",
       "      <th>symboling</th>\n",
       "      <th>wheelbase</th>\n",
       "      <th>carlength</th>\n",
       "      <th>carwidth</th>\n",
       "      <th>carheight</th>\n",
       "      <th>curbweight</th>\n",
       "      <th>enginesize</th>\n",
       "      <th>boreratio</th>\n",
       "      <th>stroke</th>\n",
       "      <th>compressionratio</th>\n",
       "      <th>horsepower</th>\n",
       "      <th>peakrpm</th>\n",
       "      <th>citympg</th>\n",
       "      <th>highwaympg</th>\n",
       "      <th>price</th>\n",
       "    </tr>\n",
       "  </thead>\n",
       "  <tbody>\n",
       "    <tr>\n",
       "      <th>count</th>\n",
       "      <td>205.00</td>\n",
       "      <td>205.00</td>\n",
       "      <td>205.00</td>\n",
       "      <td>205.00</td>\n",
       "      <td>205.00</td>\n",
       "      <td>205.00</td>\n",
       "      <td>205.00</td>\n",
       "      <td>205.00</td>\n",
       "      <td>205.00</td>\n",
       "      <td>205.00</td>\n",
       "      <td>205.00</td>\n",
       "      <td>205.00</td>\n",
       "      <td>205.00</td>\n",
       "      <td>205.00</td>\n",
       "      <td>205.00</td>\n",
       "      <td>205.00</td>\n",
       "    </tr>\n",
       "    <tr>\n",
       "      <th>mean</th>\n",
       "      <td>103.00</td>\n",
       "      <td>0.83</td>\n",
       "      <td>98.76</td>\n",
       "      <td>174.05</td>\n",
       "      <td>65.91</td>\n",
       "      <td>53.72</td>\n",
       "      <td>2555.57</td>\n",
       "      <td>126.91</td>\n",
       "      <td>3.33</td>\n",
       "      <td>3.26</td>\n",
       "      <td>10.14</td>\n",
       "      <td>104.12</td>\n",
       "      <td>5125.12</td>\n",
       "      <td>25.22</td>\n",
       "      <td>30.75</td>\n",
       "      <td>13276.71</td>\n",
       "    </tr>\n",
       "    <tr>\n",
       "      <th>std</th>\n",
       "      <td>59.32</td>\n",
       "      <td>1.25</td>\n",
       "      <td>6.02</td>\n",
       "      <td>12.34</td>\n",
       "      <td>2.15</td>\n",
       "      <td>2.44</td>\n",
       "      <td>520.68</td>\n",
       "      <td>41.64</td>\n",
       "      <td>0.27</td>\n",
       "      <td>0.31</td>\n",
       "      <td>3.97</td>\n",
       "      <td>39.54</td>\n",
       "      <td>476.99</td>\n",
       "      <td>6.54</td>\n",
       "      <td>6.89</td>\n",
       "      <td>7988.85</td>\n",
       "    </tr>\n",
       "    <tr>\n",
       "      <th>min</th>\n",
       "      <td>1.00</td>\n",
       "      <td>-2.00</td>\n",
       "      <td>86.60</td>\n",
       "      <td>141.10</td>\n",
       "      <td>60.30</td>\n",
       "      <td>47.80</td>\n",
       "      <td>1488.00</td>\n",
       "      <td>61.00</td>\n",
       "      <td>2.54</td>\n",
       "      <td>2.07</td>\n",
       "      <td>7.00</td>\n",
       "      <td>48.00</td>\n",
       "      <td>4150.00</td>\n",
       "      <td>13.00</td>\n",
       "      <td>16.00</td>\n",
       "      <td>5118.00</td>\n",
       "    </tr>\n",
       "    <tr>\n",
       "      <th>25%</th>\n",
       "      <td>52.00</td>\n",
       "      <td>0.00</td>\n",
       "      <td>94.50</td>\n",
       "      <td>166.30</td>\n",
       "      <td>64.10</td>\n",
       "      <td>52.00</td>\n",
       "      <td>2145.00</td>\n",
       "      <td>97.00</td>\n",
       "      <td>3.15</td>\n",
       "      <td>3.11</td>\n",
       "      <td>8.60</td>\n",
       "      <td>70.00</td>\n",
       "      <td>4800.00</td>\n",
       "      <td>19.00</td>\n",
       "      <td>25.00</td>\n",
       "      <td>7788.00</td>\n",
       "    </tr>\n",
       "    <tr>\n",
       "      <th>50%</th>\n",
       "      <td>103.00</td>\n",
       "      <td>1.00</td>\n",
       "      <td>97.00</td>\n",
       "      <td>173.20</td>\n",
       "      <td>65.50</td>\n",
       "      <td>54.10</td>\n",
       "      <td>2414.00</td>\n",
       "      <td>120.00</td>\n",
       "      <td>3.31</td>\n",
       "      <td>3.29</td>\n",
       "      <td>9.00</td>\n",
       "      <td>95.00</td>\n",
       "      <td>5200.00</td>\n",
       "      <td>24.00</td>\n",
       "      <td>30.00</td>\n",
       "      <td>10295.00</td>\n",
       "    </tr>\n",
       "    <tr>\n",
       "      <th>75%</th>\n",
       "      <td>154.00</td>\n",
       "      <td>2.00</td>\n",
       "      <td>102.40</td>\n",
       "      <td>183.10</td>\n",
       "      <td>66.90</td>\n",
       "      <td>55.50</td>\n",
       "      <td>2935.00</td>\n",
       "      <td>141.00</td>\n",
       "      <td>3.58</td>\n",
       "      <td>3.41</td>\n",
       "      <td>9.40</td>\n",
       "      <td>116.00</td>\n",
       "      <td>5500.00</td>\n",
       "      <td>30.00</td>\n",
       "      <td>34.00</td>\n",
       "      <td>16503.00</td>\n",
       "    </tr>\n",
       "    <tr>\n",
       "      <th>max</th>\n",
       "      <td>205.00</td>\n",
       "      <td>3.00</td>\n",
       "      <td>120.90</td>\n",
       "      <td>208.10</td>\n",
       "      <td>72.30</td>\n",
       "      <td>59.80</td>\n",
       "      <td>4066.00</td>\n",
       "      <td>326.00</td>\n",
       "      <td>3.94</td>\n",
       "      <td>4.17</td>\n",
       "      <td>23.00</td>\n",
       "      <td>288.00</td>\n",
       "      <td>6600.00</td>\n",
       "      <td>49.00</td>\n",
       "      <td>54.00</td>\n",
       "      <td>45400.00</td>\n",
       "    </tr>\n",
       "  </tbody>\n",
       "</table>\n",
       "</div>"
      ],
      "text/plain": [
       "       car_ID  symboling  wheelbase  carlength  carwidth  carheight  \\\n",
       "count  205.00     205.00     205.00     205.00    205.00     205.00   \n",
       "mean   103.00       0.83      98.76     174.05     65.91      53.72   \n",
       "std     59.32       1.25       6.02      12.34      2.15       2.44   \n",
       "min      1.00      -2.00      86.60     141.10     60.30      47.80   \n",
       "25%     52.00       0.00      94.50     166.30     64.10      52.00   \n",
       "50%    103.00       1.00      97.00     173.20     65.50      54.10   \n",
       "75%    154.00       2.00     102.40     183.10     66.90      55.50   \n",
       "max    205.00       3.00     120.90     208.10     72.30      59.80   \n",
       "\n",
       "       curbweight  enginesize  boreratio  stroke  compressionratio  \\\n",
       "count      205.00      205.00     205.00  205.00            205.00   \n",
       "mean      2555.57      126.91       3.33    3.26             10.14   \n",
       "std        520.68       41.64       0.27    0.31              3.97   \n",
       "min       1488.00       61.00       2.54    2.07              7.00   \n",
       "25%       2145.00       97.00       3.15    3.11              8.60   \n",
       "50%       2414.00      120.00       3.31    3.29              9.00   \n",
       "75%       2935.00      141.00       3.58    3.41              9.40   \n",
       "max       4066.00      326.00       3.94    4.17             23.00   \n",
       "\n",
       "       horsepower  peakrpm  citympg  highwaympg     price  \n",
       "count      205.00   205.00   205.00      205.00    205.00  \n",
       "mean       104.12  5125.12    25.22       30.75  13276.71  \n",
       "std         39.54   476.99     6.54        6.89   7988.85  \n",
       "min         48.00  4150.00    13.00       16.00   5118.00  \n",
       "25%         70.00  4800.00    19.00       25.00   7788.00  \n",
       "50%         95.00  5200.00    24.00       30.00  10295.00  \n",
       "75%        116.00  5500.00    30.00       34.00  16503.00  \n",
       "max        288.00  6600.00    49.00       54.00  45400.00  "
      ]
     },
     "execution_count": 5,
     "metadata": {},
     "output_type": "execute_result"
    }
   ],
   "source": [
    "#Estatística descritiva\n",
    "dados.describe().round(2)"
   ]
  },
  {
   "cell_type": "code",
   "execution_count": 6,
   "id": "2889a789",
   "metadata": {},
   "outputs": [
    {
     "data": {
      "text/plain": [
       "car_ID             -0.11\n",
       "symboling          -0.08\n",
       "wheelbase           0.58\n",
       "carlength           0.68\n",
       "carwidth            0.76\n",
       "carheight           0.12\n",
       "curbweight          0.84\n",
       "enginesize          0.87\n",
       "boreratio           0.55\n",
       "stroke              0.08\n",
       "compressionratio    0.07\n",
       "horsepower          0.81\n",
       "peakrpm            -0.09\n",
       "citympg            -0.69\n",
       "highwaympg         -0.70\n",
       "price               1.00\n",
       "Name: price, dtype: float64"
      ]
     },
     "execution_count": 6,
     "metadata": {},
     "output_type": "execute_result"
    }
   ],
   "source": [
    "dados.corr().round(2).loc['price']"
   ]
  },
  {
   "cell_type": "code",
   "execution_count": 7,
   "id": "7dffb744",
   "metadata": {},
   "outputs": [
    {
     "data": {
      "text/plain": [
       "car_ID              0\n",
       "symboling           0\n",
       "CarName             0\n",
       "fueltype            0\n",
       "aspiration          0\n",
       "doornumber          0\n",
       "carbody             0\n",
       "drivewheel          0\n",
       "enginelocation      0\n",
       "wheelbase           0\n",
       "carlength           0\n",
       "carwidth            0\n",
       "carheight           0\n",
       "curbweight          0\n",
       "enginetype          0\n",
       "cylindernumber      0\n",
       "enginesize          0\n",
       "fuelsystem          0\n",
       "boreratio           0\n",
       "stroke              0\n",
       "compressionratio    0\n",
       "horsepower          0\n",
       "peakrpm             0\n",
       "citympg             0\n",
       "highwaympg          0\n",
       "price               0\n",
       "dtype: int64"
      ]
     },
     "execution_count": 7,
     "metadata": {},
     "output_type": "execute_result"
    }
   ],
   "source": [
    "# Checando dados nulos\n",
    "dados.isnull().sum()"
   ]
  },
  {
   "cell_type": "markdown",
   "id": "94a6705c",
   "metadata": {},
   "source": [
    "# 2.1 Comportamento da Variável Dependente (Y)"
   ]
  },
  {
   "cell_type": "code",
   "execution_count": 8,
   "id": "54ab0b69",
   "metadata": {},
   "outputs": [],
   "source": [
    "# configuração de grafico\n",
    "\n",
    "# palette -> Accent, Accent_r, Blues, Blues_r, BrBG, BrBG_r, BuGn, BuGn_r, BuPu, BuPu_r, CMRmap, CMRmap_r, Dark2, Dark2_r, GnBu, GnBu_r, Greens, Greens_r, Greys, Greys_r, OrRd, OrRd_r, Oranges, Oranges_r, PRGn, PRGn_r, Paired, Paired_r, Pastel1, Pastel1_r, Pastel2, Pastel2_r, PiYG, PiYG_r, PuBu, PuBuGn, PuBuGn_r, PuBu_r, PuOr, PuOr_r, PuRd, PuRd_r, Purples, Purples_r, RdBu, RdBu_r, RdGy, RdGy_r, RdPu, RdPu_r, RdYlBu, RdYlBu_r, RdYlGn, RdYlGn_r, Reds, Reds_r, Set1, Set1_r, Set2, Set2_r, Set3, Set3_r, Spectral, Spectral_r, Wistia, Wistia_r, YlGn, YlGnBu, YlGnBu_r, YlGn_r, YlOrBr, YlOrBr_r, YlOrRd, YlOrRd_r, afmhot, afmhot_r, autumn, autumn_r, binary, binary_r, bone, bone_r, brg, brg_r, bwr, bwr_r, cividis, cividis_r, cool, cool_r, coolwarm, coolwarm_r, copper, copper_r, cubehelix, cubehelix_r, flag, flag_r, gist_earth, gist_earth_r, gist_gray, gist_gray_r, gist_heat, gist_heat_r, gist_ncar, gist_ncar_r, gist_rainbow, gist_rainbow_r, gist_stern, gist_stern_r, gist_yarg, gist_yarg_r, gnuplot, gnuplot2, gnuplot2_r, gnuplot_r, gray, gray_r, hot, hot_r, hsv, hsv_r, icefire, icefire_r, inferno, inferno_r, jet, jet_r, magma, magma_r, mako, mako_r, nipy_spectral, nipy_spectral_r, ocean, ocean_r, pink, pink_r, plasma, plasma_r, prism, prism_r, rainbow, rainbow_r, rocket, rocket_r, seismic, seismic_r, spring, spring_r, summer, summer_r, tab10, tab10_r, tab20, tab20_r, tab20b, tab20b_r, tab20c, tab20c_r, terrain, terrain_r, viridis, viridis_r, vlag, vlag_r, winter, winter_r\n",
    "\n",
    "sns.set_palette('Accent')\n",
    "\n",
    "# style -> white, dark, whitegrid, darkgrid, ticks\n",
    "\n",
    "sns.set_style('darkgrid')"
   ]
  },
  {
   "cell_type": "code",
   "execution_count": 9,
   "id": "6d30c1b1",
   "metadata": {},
   "outputs": [
    {
     "data": {
      "image/png": "[encoded data removed]",
      "text/plain": [
       "<Figure size 2000x600 with 1 Axes>"
      ]
     },
     "metadata": {},
     "output_type": "display_data"
    }
   ],
   "source": [
    "ax = sns.boxplot(dados['price'], orient='h', width=0.3)\n",
    "ax.figure.set_size_inches(20, 6)\n",
    "ax.set_title('Preço de Carros', fontsize=20)\n",
    "ax.set_xlabel('', fontsize=16)\n",
    "ax;"
   ]
  },
  {
   "cell_type": "code",
   "execution_count": 10,
   "id": "8b88c95f",
   "metadata": {},
   "outputs": [
    {
     "data": {
      "image/png": "[encoded data removed]",
      "text/plain": [
       "<Figure size 2000x600 with 1 Axes>"
      ]
     },
     "metadata": {},
     "output_type": "display_data"
    }
   ],
   "source": [
    "ax = sns.distplot(dados['price'])\n",
    "ax.figure.set_size_inches(20, 6)\n",
    "ax.set_title('Distribuição de Frequências', fontsize=20)\n",
    "ax.set_xlabel('Preço de Automóveis', fontsize=16)\n",
    "ax;"
   ]
  },
  {
   "cell_type": "markdown",
   "id": "288b091f",
   "metadata": {},
   "source": [
    "<b>Possível notar assimetria a direita, para melhorar o modelo o ideal é o comportamento ser semelhante a uma distribuição normal.</b>"
   ]
  },
  {
   "cell_type": "markdown",
   "id": "b88ce5d2",
   "metadata": {},
   "source": [
    "# 3.1 Tratando a variável dependente (Y)"
   ]
  },
  {
   "cell_type": "code",
   "execution_count": 11,
   "id": "494e7fcf",
   "metadata": {},
   "outputs": [
    {
     "data": {
      "image/png": "[encoded data removed]",
      "text/plain": [
       "<Figure size 2000x600 with 1 Axes>"
      ]
     },
     "metadata": {},
     "output_type": "display_data"
    }
   ],
   "source": [
    "y = np.log(dados['price'])\n",
    "\n",
    "ax = sns.distplot(y)\n",
    "ax.figure.set_size_inches(20, 6)\n",
    "ax.set_title('Distribuição de Frequências', fontsize=20)\n",
    "ax.set_xlabel('Preço de Automóveis', fontsize=16)\n",
    "ax;"
   ]
  },
  {
   "cell_type": "markdown",
   "id": "ac1571c4",
   "metadata": {},
   "source": [
    "## 3.2 Tratando a variáveis explicativas (X)"
   ]
  },
  {
   "cell_type": "code",
   "execution_count": 12,
   "id": "38b0a365",
   "metadata": {},
   "outputs": [],
   "source": [
    "columns = [ 'symboling', 'fueltype', 'aspiration',\n",
    "       'doornumber', 'carbody', 'drivewheel', 'enginelocation', 'wheelbase',\n",
    "       'carlength', 'carwidth', 'carheight', 'curbweight', 'enginetype',\n",
    "       'cylindernumber', 'enginesize', 'fuelsystem', 'boreratio', 'stroke',\n",
    "       'compressionratio', 'horsepower', 'peakrpm', 'citympg', 'highwaympg']"
   ]
  },
  {
   "cell_type": "code",
   "execution_count": 13,
   "id": "aa362c01",
   "metadata": {},
   "outputs": [],
   "source": [
    "X = dados[columns]\n",
    "X.set_index(dados['car_ID'], inplace=True)"
   ]
  },
  {
   "cell_type": "code",
   "execution_count": 14,
   "id": "ee934706",
   "metadata": {},
   "outputs": [
    {
     "data": {
      "text/html": [
       "<div>\n",
       "<style scoped>\n",
       "    .dataframe tbody tr th:only-of-type {\n",
       "        vertical-align: middle;\n",
       "    }\n",
       "\n",
       "    .dataframe tbody tr th {\n",
       "        vertical-align: top;\n",
       "    }\n",
       "\n",
       "    .dataframe thead th {\n",
       "        text-align: right;\n",
       "    }\n",
       "</style>\n",
       "<table border=\"1\" class=\"dataframe\">\n",
       "  <thead>\n",
       "    <tr style=\"text-align: right;\">\n",
       "      <th></th>\n",
       "      <th>symboling</th>\n",
       "      <th>fueltype</th>\n",
       "      <th>aspiration</th>\n",
       "      <th>doornumber</th>\n",
       "      <th>carbody</th>\n",
       "      <th>drivewheel</th>\n",
       "      <th>enginelocation</th>\n",
       "      <th>wheelbase</th>\n",
       "      <th>carlength</th>\n",
       "      <th>carwidth</th>\n",
       "      <th>...</th>\n",
       "      <th>cylindernumber</th>\n",
       "      <th>enginesize</th>\n",
       "      <th>fuelsystem</th>\n",
       "      <th>boreratio</th>\n",
       "      <th>stroke</th>\n",
       "      <th>compressionratio</th>\n",
       "      <th>horsepower</th>\n",
       "      <th>peakrpm</th>\n",
       "      <th>citympg</th>\n",
       "      <th>highwaympg</th>\n",
       "    </tr>\n",
       "    <tr>\n",
       "      <th>car_ID</th>\n",
       "      <th></th>\n",
       "      <th></th>\n",
       "      <th></th>\n",
       "      <th></th>\n",
       "      <th></th>\n",
       "      <th></th>\n",
       "      <th></th>\n",
       "      <th></th>\n",
       "      <th></th>\n",
       "      <th></th>\n",
       "      <th></th>\n",
       "      <th></th>\n",
       "      <th></th>\n",
       "      <th></th>\n",
       "      <th></th>\n",
       "      <th></th>\n",
       "      <th></th>\n",
       "      <th></th>\n",
       "      <th></th>\n",
       "      <th></th>\n",
       "      <th></th>\n",
       "    </tr>\n",
       "  </thead>\n",
       "  <tbody>\n",
       "    <tr>\n",
       "      <th>1</th>\n",
       "      <td>3</td>\n",
       "      <td>gas</td>\n",
       "      <td>std</td>\n",
       "      <td>two</td>\n",
       "      <td>convertible</td>\n",
       "      <td>rwd</td>\n",
       "      <td>front</td>\n",
       "      <td>88.6</td>\n",
       "      <td>168.8</td>\n",
       "      <td>64.1</td>\n",
       "      <td>...</td>\n",
       "      <td>four</td>\n",
       "      <td>130</td>\n",
       "      <td>mpfi</td>\n",
       "      <td>3.47</td>\n",
       "      <td>2.68</td>\n",
       "      <td>9.0</td>\n",
       "      <td>111</td>\n",
       "      <td>5000</td>\n",
       "      <td>21</td>\n",
       "      <td>27</td>\n",
       "    </tr>\n",
       "    <tr>\n",
       "      <th>2</th>\n",
       "      <td>3</td>\n",
       "      <td>gas</td>\n",
       "      <td>std</td>\n",
       "      <td>two</td>\n",
       "      <td>convertible</td>\n",
       "      <td>rwd</td>\n",
       "      <td>front</td>\n",
       "      <td>88.6</td>\n",
       "      <td>168.8</td>\n",
       "      <td>64.1</td>\n",
       "      <td>...</td>\n",
       "      <td>four</td>\n",
       "      <td>130</td>\n",
       "      <td>mpfi</td>\n",
       "      <td>3.47</td>\n",
       "      <td>2.68</td>\n",
       "      <td>9.0</td>\n",
       "      <td>111</td>\n",
       "      <td>5000</td>\n",
       "      <td>21</td>\n",
       "      <td>27</td>\n",
       "    </tr>\n",
       "    <tr>\n",
       "      <th>3</th>\n",
       "      <td>1</td>\n",
       "      <td>gas</td>\n",
       "      <td>std</td>\n",
       "      <td>two</td>\n",
       "      <td>hatchback</td>\n",
       "      <td>rwd</td>\n",
       "      <td>front</td>\n",
       "      <td>94.5</td>\n",
       "      <td>171.2</td>\n",
       "      <td>65.5</td>\n",
       "      <td>...</td>\n",
       "      <td>six</td>\n",
       "      <td>152</td>\n",
       "      <td>mpfi</td>\n",
       "      <td>2.68</td>\n",
       "      <td>3.47</td>\n",
       "      <td>9.0</td>\n",
       "      <td>154</td>\n",
       "      <td>5000</td>\n",
       "      <td>19</td>\n",
       "      <td>26</td>\n",
       "    </tr>\n",
       "    <tr>\n",
       "      <th>4</th>\n",
       "      <td>2</td>\n",
       "      <td>gas</td>\n",
       "      <td>std</td>\n",
       "      <td>four</td>\n",
       "      <td>sedan</td>\n",
       "      <td>fwd</td>\n",
       "      <td>front</td>\n",
       "      <td>99.8</td>\n",
       "      <td>176.6</td>\n",
       "      <td>66.2</td>\n",
       "      <td>...</td>\n",
       "      <td>four</td>\n",
       "      <td>109</td>\n",
       "      <td>mpfi</td>\n",
       "      <td>3.19</td>\n",
       "      <td>3.40</td>\n",
       "      <td>10.0</td>\n",
       "      <td>102</td>\n",
       "      <td>5500</td>\n",
       "      <td>24</td>\n",
       "      <td>30</td>\n",
       "    </tr>\n",
       "    <tr>\n",
       "      <th>5</th>\n",
       "      <td>2</td>\n",
       "      <td>gas</td>\n",
       "      <td>std</td>\n",
       "      <td>four</td>\n",
       "      <td>sedan</td>\n",
       "      <td>4wd</td>\n",
       "      <td>front</td>\n",
       "      <td>99.4</td>\n",
       "      <td>176.6</td>\n",
       "      <td>66.4</td>\n",
       "      <td>...</td>\n",
       "      <td>five</td>\n",
       "      <td>136</td>\n",
       "      <td>mpfi</td>\n",
       "      <td>3.19</td>\n",
       "      <td>3.40</td>\n",
       "      <td>8.0</td>\n",
       "      <td>115</td>\n",
       "      <td>5500</td>\n",
       "      <td>18</td>\n",
       "      <td>22</td>\n",
       "    </tr>\n",
       "  </tbody>\n",
       "</table>\n",
       "<p>5 rows × 23 columns</p>\n",
       "</div>"
      ],
      "text/plain": [
       "        symboling fueltype aspiration doornumber      carbody drivewheel  \\\n",
       "car_ID                                                                     \n",
       "1               3      gas        std        two  convertible        rwd   \n",
       "2               3      gas        std        two  convertible        rwd   \n",
       "3               1      gas        std        two    hatchback        rwd   \n",
       "4               2      gas        std       four        sedan        fwd   \n",
       "5               2      gas        std       four        sedan        4wd   \n",
       "\n",
       "       enginelocation  wheelbase  carlength  carwidth  ...  cylindernumber  \\\n",
       "car_ID                                                 ...                   \n",
       "1               front       88.6      168.8      64.1  ...            four   \n",
       "2               front       88.6      168.8      64.1  ...            four   \n",
       "3               front       94.5      171.2      65.5  ...             six   \n",
       "4               front       99.8      176.6      66.2  ...            four   \n",
       "5               front       99.4      176.6      66.4  ...            five   \n",
       "\n",
       "        enginesize fuelsystem boreratio  stroke compressionratio  horsepower  \\\n",
       "car_ID                                                                         \n",
       "1              130       mpfi      3.47    2.68              9.0         111   \n",
       "2              130       mpfi      3.47    2.68              9.0         111   \n",
       "3              152       mpfi      2.68    3.47              9.0         154   \n",
       "4              109       mpfi      3.19    3.40             10.0         102   \n",
       "5              136       mpfi      3.19    3.40              8.0         115   \n",
       "\n",
       "        peakrpm  citympg  highwaympg  \n",
       "car_ID                                \n",
       "1          5000       21          27  \n",
       "2          5000       21          27  \n",
       "3          5000       19          26  \n",
       "4          5500       24          30  \n",
       "5          5500       18          22  \n",
       "\n",
       "[5 rows x 23 columns]"
      ]
     },
     "execution_count": 14,
     "metadata": {},
     "output_type": "execute_result"
    }
   ],
   "source": [
    "X.head()"
   ]
  },
  {
   "cell_type": "code",
   "execution_count": 15,
   "id": "cb595ac1",
   "metadata": {},
   "outputs": [
    {
     "data": {
      "text/plain": [
       "symboling             int64\n",
       "fueltype             object\n",
       "aspiration           object\n",
       "doornumber           object\n",
       "carbody              object\n",
       "drivewheel           object\n",
       "enginelocation       object\n",
       "wheelbase           float64\n",
       "carlength           float64\n",
       "carwidth            float64\n",
       "carheight           float64\n",
       "curbweight            int64\n",
       "enginetype           object\n",
       "cylindernumber       object\n",
       "enginesize            int64\n",
       "fuelsystem           object\n",
       "boreratio           float64\n",
       "stroke              float64\n",
       "compressionratio    float64\n",
       "horsepower            int64\n",
       "peakrpm               int64\n",
       "citympg               int64\n",
       "highwaympg            int64\n",
       "dtype: object"
      ]
     },
     "execution_count": 15,
     "metadata": {},
     "output_type": "execute_result"
    }
   ],
   "source": [
    "X.dtypes"
   ]
  },
  {
   "cell_type": "markdown",
   "id": "2ea3817a",
   "metadata": {},
   "source": [
    "## Convertendo as variáveis alfanuméricas para numéricas"
   ]
  },
  {
   "cell_type": "code",
   "execution_count": null,
   "id": "71a2793e",
   "metadata": {},
   "outputs": [],
   "source": [
    "# Label Encoder\n",
    "\n",
    "columns = ['fueltype','aspiration','doornumber','carbody','drivewheel','enginelocation',\n",
    "           'enginetype','cylindernumber','fuelsystem',]\n",
    "\n",
    "label_encoder = LabelEncoder()\n",
    "\n",
    "for column in columns:\n",
    "    X[column] = label_encoder.fit_transform(X[column])"
   ]
  },
  {
   "cell_type": "code",
   "execution_count": null,
   "id": "28e50b5c",
   "metadata": {},
   "outputs": [],
   "source": [
    "X.head(3)"
   ]
  },
  {
   "cell_type": "code",
   "execution_count": null,
   "id": "3c4559e3",
   "metadata": {},
   "outputs": [],
   "source": [
    "X.dtypes"
   ]
  },
  {
   "cell_type": "markdown",
   "id": "31d30293",
   "metadata": {},
   "source": [
    "## Tratando a variável symboling\n",
    "<p>A variável symboling nos diz sobre a segurança de um automóvel que pode variar de -3 a 3, entretanto esses valores negativos podem atrapalhar a construção do modelo, portanto irei alterá-la para variar de 0 a 6.</p>"
   ]
  },
  {
   "cell_type": "code",
   "execution_count": null,
   "id": "2d56828e",
   "metadata": {},
   "outputs": [],
   "source": [
    "X['symboling'] = X['symboling'].astype(str)\n",
    "X['symboling'] = X['symboling'].str.replace('-3','0')\n",
    "X['symboling'] = X['symboling'].str.replace('-2','1')\n",
    "X['symboling'] = X['symboling'].str.replace('-1','2')\n",
    "X['symboling'] = X['symboling'].str.replace('0','3')\n",
    "X['symboling'] = X['symboling'].str.replace('1','4')\n",
    "X['symboling'] = X['symboling'].str.replace('2','5')\n",
    "X['symboling'] = X['symboling'].str.replace('3','6')\n",
    "X['symboling'] = X['symboling'].astype(int)"
   ]
  },
  {
   "cell_type": "markdown",
   "id": "4ef39393",
   "metadata": {},
   "source": [
    "## Calculando o Logaritmo das variáveis explicativas (X)"
   ]
  },
  {
   "cell_type": "code",
   "execution_count": null,
   "id": "4161cd35",
   "metadata": {},
   "outputs": [],
   "source": [
    "for column_name in X.columns:\n",
    "    column = X[column_name]\n",
    "    if ((column == 0).sum()) >0:\n",
    "        X[column_name] = np.log(X[column_name]+1)\n",
    "    else:\n",
    "        X[column_name] = np.log(X[column_name])"
   ]
  },
  {
   "cell_type": "markdown",
   "id": "8783f847",
   "metadata": {},
   "source": [
    "## Identificando as variáveis explicativas com correlação maior ou igual a 0.3"
   ]
  },
  {
   "cell_type": "code",
   "execution_count": null,
   "id": "ef346d15",
   "metadata": {},
   "outputs": [],
   "source": [
    "X2 = X.copy()"
   ]
  },
  {
   "cell_type": "code",
   "execution_count": null,
   "id": "1a639133",
   "metadata": {},
   "outputs": [],
   "source": [
    "X2['price'] = y"
   ]
  },
  {
   "cell_type": "code",
   "execution_count": null,
   "id": "caa7f4cd",
   "metadata": {},
   "outputs": [],
   "source": [
    "columns = X2.corr().round(2).loc['price'].index\n",
    "values = X2.corr().round(2).loc['price'].values\n",
    "\n",
    "correlacao = pd.DataFrame(values, columns, columns=['Correlação'])\n",
    "correlacao=correlacao[correlacao['Correlação']>=0.3]"
   ]
  },
  {
   "cell_type": "markdown",
   "id": "1c0829be",
   "metadata": {},
   "source": [
    "Aqui escolhir uma correlação de >=0.3 para entrar no modelo, assim encontrando 11 variáveis com maior importancia para explicar os valores"
   ]
  },
  {
   "cell_type": "code",
   "execution_count": null,
   "id": "22f7800a",
   "metadata": {},
   "outputs": [],
   "source": [
    "ax = sns.pairplot(X2, y_vars='price',x_vars = ['symboling','drivewheel','wheelbase'], height=5, kind='reg')\n",
    "ax.fig.suptitle('Dispersão entre as Variáveis', fontsize=20, y=1.05)\n",
    "ax;\n",
    "\n",
    "ax = sns.pairplot(X2, y_vars='price',x_vars = ['carlength','carwidth','carheight'], height=5, kind='reg')\n",
    "ax\n",
    "\n",
    "ax = sns.pairplot(X2, y_vars='price',x_vars = ['curbweight','enginesize','fuelsystem'], height=5, kind='reg')\n",
    "ax\n",
    "\n",
    "ax = sns.pairplot(X2, y_vars='price',x_vars = ['boreratio','horsepower'], height=5, kind='reg')\n",
    "ax"
   ]
  },
  {
   "cell_type": "markdown",
   "id": "7da19bed",
   "metadata": {},
   "source": [
    "## 4.1 Criando os Datasets de Treino e Teste"
   ]
  },
  {
   "cell_type": "code",
   "execution_count": null,
   "id": "7721fd67",
   "metadata": {},
   "outputs": [],
   "source": [
    "columns=correlacao.index[:-1]\n",
    "X = X[columns]\n",
    "X.head()\n"
   ]
  },
  {
   "cell_type": "code",
   "execution_count": null,
   "id": "87c536e0",
   "metadata": {},
   "outputs": [],
   "source": [
    "X_train, X_test, y_train, y_test = train_test_split(X, y, test_size=0.2, random_state=0)"
   ]
  },
  {
   "cell_type": "markdown",
   "id": "a4ca545a",
   "metadata": {},
   "source": [
    "## 5.1 Estimando o modelo"
   ]
  },
  {
   "cell_type": "markdown",
   "id": "c443e252",
   "metadata": {},
   "source": [
    "Estimando o modelo com statsmodels"
   ]
  },
  {
   "cell_type": "code",
   "execution_count": null,
   "id": "0fed8920",
   "metadata": {},
   "outputs": [],
   "source": [
    "X_train_com_constante = sm.add_constant(X_train)"
   ]
  },
  {
   "cell_type": "code",
   "execution_count": null,
   "id": "7168b3b5",
   "metadata": {},
   "outputs": [],
   "source": [
    "# Como o y_train esta na matriz 2d eu converto para 1d com y_train.values.ravel()\n",
    "\n",
    "modelo_statsmodels = sm.OLS(y_train.values.ravel(), X_train_com_constante, hasconst=True).fit()"
   ]
  },
  {
   "cell_type": "code",
   "execution_count": null,
   "id": "2b62fb12",
   "metadata": {},
   "outputs": [],
   "source": [
    "print(modelo_statsmodels.summary())"
   ]
  },
  {
   "cell_type": "markdown",
   "id": "2e73c28d",
   "metadata": {},
   "source": [
    "<h5>Olhando para o indicador P>|t| decido considerar apenas as variáveis que tiverem valor abaixo de 0.5, o que me faz tirar do modelo as variáveis<b> 'carlength' e 'fuelsystem'</b></h5>"
   ]
  },
  {
   "cell_type": "code",
   "execution_count": null,
   "id": "fde06de6",
   "metadata": {},
   "outputs": [],
   "source": [
    "X_train.drop(columns=['carlength', 'fuelsystem'], inplace=True)\n",
    "X_test.drop(columns=['carlength', 'fuelsystem'], inplace=True)"
   ]
  },
  {
   "cell_type": "markdown",
   "id": "11455c72",
   "metadata": {},
   "source": [
    "## 6.1 Criando modelo de Regressão Linear Multipla"
   ]
  },
  {
   "cell_type": "code",
   "execution_count": null,
   "id": "28be0567",
   "metadata": {},
   "outputs": [],
   "source": [
    "modelo = LinearRegression()\n",
    "modelo.fit(X_train, y_train)"
   ]
  },
  {
   "cell_type": "code",
   "execution_count": null,
   "id": "d06b5dfd",
   "metadata": {},
   "outputs": [],
   "source": [
    "modelo.score(X_train, y_train).round(3)"
   ]
  },
  {
   "cell_type": "code",
   "execution_count": null,
   "id": "afba8726",
   "metadata": {},
   "outputs": [],
   "source": [
    "y_predict_train = modelo.predict(X_train)\n",
    "df = pd.DataFrame({'treino':np.exp(y_train),'modelo':np.exp(y_predict_train)})\n",
    "\n",
    "ax = sns.lmplot(x='treino', y='modelo', data=df)\n",
    "ax.fig.suptitle('Dispersão entre valores de treino e valor estimado pelo modelo', fontsize=20, y=1.1)\n",
    "ax.set_axis_labels(\"Modelo\", 'Treino', fontsize =14)\n",
    "ax;"
   ]
  },
  {
   "cell_type": "markdown",
   "id": "587df1d6",
   "metadata": {},
   "source": [
    "## 6.2 validando com a base teste"
   ]
  },
  {
   "cell_type": "code",
   "execution_count": null,
   "id": "cdcf5fc3",
   "metadata": {},
   "outputs": [],
   "source": [
    "y_predict = modelo.predict(X_test)\n",
    "metrics.r2_score(y_test, y_predict).round(3)"
   ]
  },
  {
   "cell_type": "markdown",
   "id": "143e99ca",
   "metadata": {},
   "source": [
    "Validando com a base de teste obtivemos um R² de 0.826"
   ]
  },
  {
   "cell_type": "code",
   "execution_count": null,
   "id": "5d7acd20",
   "metadata": {},
   "outputs": [],
   "source": [
    "df = pd.DataFrame({'teste':np.exp(y_test),'real':np.exp(y_predict)})"
   ]
  },
  {
   "cell_type": "markdown",
   "id": "379e08a1",
   "metadata": {},
   "source": [
    "Lembrando que para fazer a conversão dos valores logarítmicos devemos calcular o exponencial"
   ]
  },
  {
   "cell_type": "code",
   "execution_count": null,
   "id": "e02052bf",
   "metadata": {},
   "outputs": [],
   "source": [
    "ax = sns.lmplot(x='teste', y='real', data=df)\n",
    "ax.fig.suptitle('Dispersão Entre Valores Reais e Estimados', fontsize=20, y=1.1)\n",
    "ax.set_axis_labels(\"Estimado\", 'Real', fontsize =14)\n",
    "ax;"
   ]
  },
  {
   "cell_type": "markdown",
   "id": "69c437a2",
   "metadata": {},
   "source": [
    "# 7.1 Conclusão"
   ]
  },
  {
   "cell_type": "markdown",
   "id": "83c93c03",
   "metadata": {},
   "source": [
    "Por fim com esse estudo podemos concluir que as principais variáveis que para precificação de automóveis no mercado americano são:\n",
    "\n",
    "-   **symboling** → Classificação De segurança de um automóvel.\n",
    "-   **drivewheel** → Tipo de roda de acionamento.\n",
    "-   **wheelbase** → Distância entre os eixos do automóvel\n",
    "-   **carwidth** → Largura do automóvel.\n",
    "-   **curbweight** → Peso do automóvel (sem ocupantes e bagagem)\n",
    "-   **enginesize** →Tamanho do motor\n",
    "-   **boreratio** → relação entre as dimensões do diâmetro do furo do cilindro do motor e o comprimento do curso do pistão.\n",
    "-   **horsepower** → Cavalos de potência.\n",
    "\n",
    "Com base nessas variáveis escolhidas por possuírem uma correlação alta com o preço conseguimos entrar um **R² de 0.826**, contudo é importante ressaltar que não obtivemos bons resultado com veículos mais caros (veículos de luxo), é que para esse tipo de veículo o que as variáveis podem ser relevantes para sua precificação podem ser diferentes, assim sendo necessário um novo estudo para esta classe de veículos."
   ]
  },
  {
   "cell_type": "markdown",
   "id": "be1eb0d4",
   "metadata": {},
   "source": [
    "## 8.1 Bonus"
   ]
  },
  {
   "cell_type": "markdown",
   "id": "3bfb8d71",
   "metadata": {},
   "source": [
    "### Contruindo uma classe para o modelo e salvando"
   ]
  },
  {
   "cell_type": "code",
   "execution_count": null,
   "id": "c8926a40",
   "metadata": {},
   "outputs": [],
   "source": [
    "import pickle"
   ]
  },
  {
   "cell_type": "code",
   "execution_count": null,
   "id": "79886b8f",
   "metadata": {},
   "outputs": [],
   "source": [
    "# Depara dos valores\n",
    "\n",
    "valores_convertidos = list(np.exp(X['drivewheel'].unique()).round(0))\n",
    "valores_originais = list(dados['drivewheel'].unique())\n",
    "\n",
    "depara_drivewheel = {valores_originais[elemento]: valores_convertidos[elemento] for elemento in range(len(valores_originais))}\n",
    "depara_symboling = {-3:0,-2:1,-1:2,0:3,1:4,2:5,3:6}\n",
    "deparas = [depara_drivewheel, depara_symboling]"
   ]
  },
  {
   "cell_type": "code",
   "execution_count": null,
   "id": "2cc46424",
   "metadata": {},
   "outputs": [],
   "source": [
    "class Modelo:\n",
    "    def __init__(self, modelo, deparas):\n",
    "        self.modelo = modelo\n",
    "        self.depara_drivewheel = deparas[0]\n",
    "        self.depara_symboling = deparas[1]\n",
    "\n",
    "    def predict(self, entrada):\n",
    "        entrada2 = entrada.copy()\n",
    "        \n",
    "        entrada2['symboling'] = np.log(self.depara_symboling[entrada['symboling']])\n",
    "        entrada2['drivewheel'] = np.log(self.depara_drivewheel[entrada['drivewheel']])\n",
    "        entrada2['wheelbase'] = np.log(entrada['wheelbase'])\n",
    "        entrada2['carwidth'] = np.log(entrada['carwidth'])\n",
    "        entrada2['curbweight'] = np.log(entrada['curbweight'])\n",
    "        entrada2['enginesize'] = np.log(entrada['enginesize'])\n",
    "        entrada2['boreratio'] = np.log(entrada['boreratio'])\n",
    "        entrada2['horsepower'] = np.log(entrada['horsepower'])\n",
    "        estimativa = np.exp(self.modelo.predict([entrada2])[0]).round(2)\n",
    "        \n",
    "        entrada['price_p'] = estimativa # importante se atentar que o métado adiciona uma chave a variavel entrada\n",
    "        return entrada # retorno nem se faz necessário, esta aqui apenas para visualizar no notebook\n",
    "        \n",
    "\n",
    "        "
   ]
  },
  {
   "cell_type": "code",
   "execution_count": null,
   "id": "7f66516c",
   "metadata": {},
   "outputs": [],
   "source": [
    "#Estanciando classe do modelo\n",
    "modelo_cars = Modelo(modelo,deparas)"
   ]
  },
  {
   "cell_type": "markdown",
   "id": "f19c1429",
   "metadata": {},
   "source": [
    "## Teste da classe"
   ]
  },
  {
   "cell_type": "code",
   "execution_count": null,
   "id": "189c413d",
   "metadata": {},
   "outputs": [],
   "source": [
    "entrada = dados[X_train.columns].iloc[3]\n",
    "entrada"
   ]
  },
  {
   "cell_type": "markdown",
   "id": "c1be29e6",
   "metadata": {},
   "source": [
    "<i>Escolhi uma entrada aleatória para testar, a entrada para o método predict da classe Modelo deve conter este formato com essa variaveis.<i>"
   ]
  },
  {
   "cell_type": "code",
   "execution_count": null,
   "id": "b46a6696",
   "metadata": {},
   "outputs": [],
   "source": [
    "modelo_cars.predict(entrada)"
   ]
  },
  {
   "cell_type": "markdown",
   "id": "8a07b2bc",
   "metadata": {},
   "source": [
    "O retorno é às mesmas variáveis com o campo <b>'price_p'</b> contendo o valor estimado para o veículo com estas características."
   ]
  },
  {
   "cell_type": "markdown",
   "id": "85fbe6cc",
   "metadata": {},
   "source": [
    "## Salvando"
   ]
  },
  {
   "cell_type": "code",
   "execution_count": null,
   "id": "199f6b6c",
   "metadata": {},
   "outputs": [],
   "source": [
    "output = open('modelo_cars', 'wb')\n",
    "pickle.dump(modelo_cars, output)\n",
    "output.close()"
   ]
  },
  {
   "cell_type": "markdown",
   "id": "fd2c62d3",
   "metadata": {},
   "source": [
    "## Carregando"
   ]
  },
  {
   "cell_type": "code",
   "execution_count": null,
   "id": "61bebdaa",
   "metadata": {},
   "outputs": [],
   "source": [
    "input_ = open('modelo_cars','rb')\n",
    "load_modelo = pickle.load(input_)\n",
    "input_.close()"
   ]
  },
  {
   "cell_type": "code",
   "execution_count": null,
   "id": "d853ccaf",
   "metadata": {},
   "outputs": [],
   "source": [
    "entrada = dados[X_train.columns].iloc[128]\n",
    "\n",
    "load_modelo.predict(entrada)"
   ]
  }
 ],
 "metadata": {
  "kernelspec": {
   "display_name": "Python 3 (ipykernel)",
   "language": "python",
   "name": "python3"
  },
  "language_info": {
   "codemirror_mode": {
    "name": "ipython",
    "version": 3
   },
   "file_extension": ".py",
   "mimetype": "text/x-python",
   "name": "python",
   "nbconvert_exporter": "python",
   "pygments_lexer": "ipython3",
   "version": "3.10.9"
  }
 },
 "nbformat": 4,
 "nbformat_minor": 5
}
